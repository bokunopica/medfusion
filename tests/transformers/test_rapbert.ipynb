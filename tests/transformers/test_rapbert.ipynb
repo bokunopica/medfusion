{
 "cells": [
  {
   "cell_type": "code",
   "execution_count": 1,
   "metadata": {},
   "outputs": [
    {
     "name": "stderr",
     "output_type": "stream",
     "text": [
      "/home/pico/myCodes/medfusion/venv/lib/python3.10/site-packages/tqdm/auto.py:21: TqdmWarning: IProgress not found. Please update jupyter and ipywidgets. See https://ipywidgets.readthedocs.io/en/stable/user_install.html\n",
      "  from .autonotebook import tqdm as notebook_tqdm\n"
     ]
    }
   ],
   "source": [
    "from transformers import AutoTokenizer, AutoModelForMaskedLM, AutoModel, BertModel\n",
    "from torch import nn\n",
    "import torch\n",
    "import time"
   ]
  },
  {
   "cell_type": "code",
   "execution_count": 2,
   "metadata": {},
   "outputs": [],
   "source": [
    "device = torch.device(\"cuda:0\" if torch.cuda.is_available() else \"cpu\")"
   ]
  },
  {
   "cell_type": "code",
   "execution_count": 5,
   "metadata": {},
   "outputs": [
    {
     "name": "stderr",
     "output_type": "stream",
     "text": [
      "Some weights of the model checkpoint at StanfordAIMI/RadBERT were not used when initializing BertModel: ['cls.predictions.decoder.weight', 'cls.predictions.transform.dense.bias', 'cls.predictions.bias', 'cls.predictions.transform.dense.weight', 'cls.predictions.transform.LayerNorm.weight', 'cls.predictions.decoder.bias', 'cls.predictions.transform.LayerNorm.bias']\n",
      "- This IS expected if you are initializing BertModel from the checkpoint of a model trained on another task or with another architecture (e.g. initializing a BertForSequenceClassification model from a BertForPreTraining model).\n",
      "- This IS NOT expected if you are initializing BertModel from the checkpoint of a model that you expect to be exactly identical (initializing a BertForSequenceClassification model from a BertForSequenceClassification model).\n"
     ]
    }
   ],
   "source": [
    "class RadBertEmbedder(nn.Module):\n",
    "    _device = f\"{torch.device('cuda' if torch.cuda.is_available() else 'cpu')}:{torch.cuda.current_device()}\"\n",
    "    _tokenizer = AutoTokenizer.from_pretrained(\"StanfordAIMI/RadBERT\")\n",
    "    _model = BertModel.from_pretrained(\"StanfordAIMI/RadBERT\").to('cuda')\n",
    "\n",
    "    def __init__(self, emb_dim=32,*args, **kwargs):\n",
    "        super().__init__()\n",
    "        self.emb_dim = emb_dim\n",
    "        self.mlp = nn.Sequential(\n",
    "            nn.Linear(768, emb_dim), # 768 bert output的维度\n",
    "            nn.LayerNorm(emb_dim),\n",
    "            nn.ReLU(),\n",
    "            nn.Linear(emb_dim, emb_dim),\n",
    "            nn.LayerNorm(emb_dim),\n",
    "        ).to('cuda')\n",
    "\n",
    "    def forward(self, condition):\n",
    "        start = time.time()\n",
    "        inputs_list = [self._tokenizer(condition_str, return_tensors=\"pt\").to(self._device) for condition_str in condition]\n",
    "        with torch.no_grad():\n",
    "            outputs_list = [self._model(**inputs) for inputs in inputs_list]\n",
    "        c = torch.stack([outputs.pooler_output[0] for outputs in outputs_list])\n",
    "        c = self.mlp(c)\n",
    "        end = time.time()\n",
    "        print(\"forward_time: \", end-start)\n",
    "        return c"
   ]
  },
  {
   "cell_type": "code",
   "execution_count": 6,
   "metadata": {},
   "outputs": [
    {
     "name": "stdout",
     "output_type": "stream",
     "text": [
      "forward_time:  0.9255011081695557\n"
     ]
    },
    {
     "data": {
      "text/plain": [
       "tensor([[-0.5365,  2.0501,  0.8347,  ..., -0.4111,  1.2516, -0.4292],\n",
       "        [-0.5365,  2.0501,  0.8347,  ..., -0.4111,  1.2516, -0.4292],\n",
       "        [-0.5365,  2.0501,  0.8347,  ..., -0.4111,  1.2516, -0.4292],\n",
       "        ...,\n",
       "        [-0.5365,  2.0501,  0.8347,  ..., -0.4111,  1.2516, -0.4292],\n",
       "        [-0.5365,  2.0501,  0.8347,  ..., -0.4111,  1.2516, -0.4292],\n",
       "        [-0.5365,  2.0501,  0.8347,  ..., -0.4111,  1.2516, -0.4292]],\n",
       "       device='cuda:0', grad_fn=<NativeLayerNormBackward0>)"
      ]
     },
     "execution_count": 6,
     "metadata": {},
     "output_type": "execute_result"
    }
   ],
   "source": [
    "emb_obj = RadBertEmbedder(emb_dim=1024)\n",
    "condition = [\"A photo of a lung xray with a visible pleural effusion\"]*64\n",
    "emb_obj.forward(condition)"
   ]
  }
 ],
 "metadata": {
  "kernelspec": {
   "display_name": "venv",
   "language": "python",
   "name": "python3"
  },
  "language_info": {
   "codemirror_mode": {
    "name": "ipython",
    "version": 3
   },
   "file_extension": ".py",
   "mimetype": "text/x-python",
   "name": "python",
   "nbconvert_exporter": "python",
   "pygments_lexer": "ipython3",
   "version": "3.10.6"
  },
  "orig_nbformat": 4
 },
 "nbformat": 4,
 "nbformat_minor": 2
}
