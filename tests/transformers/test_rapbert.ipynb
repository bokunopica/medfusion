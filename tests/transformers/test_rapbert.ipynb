{
 "cells": [
  {
   "cell_type": "code",
   "execution_count": 1,
   "metadata": {},
   "outputs": [
    {
     "name": "stderr",
     "output_type": "stream",
     "text": [
      "/home/pico/myCodes/medfusion/venv/lib/python3.10/site-packages/tqdm/auto.py:21: TqdmWarning: IProgress not found. Please update jupyter and ipywidgets. See https://ipywidgets.readthedocs.io/en/stable/user_install.html\n",
      "  from .autonotebook import tqdm as notebook_tqdm\n"
     ]
    }
   ],
   "source": [
    "from transformers import AutoTokenizer, BertModel\n",
    "from transformers.utils import PaddingStrategy\n",
    "from torch import nn\n",
    "import torch"
   ]
  },
  {
   "cell_type": "code",
   "execution_count": 2,
   "metadata": {},
   "outputs": [
    {
     "name": "stderr",
     "output_type": "stream",
     "text": [
      "Some weights of the model checkpoint at StanfordAIMI/RadBERT were not used when initializing BertModel: ['cls.predictions.transform.LayerNorm.bias', 'cls.predictions.decoder.bias', 'cls.predictions.transform.dense.weight', 'cls.predictions.bias', 'cls.predictions.transform.dense.bias', 'cls.predictions.decoder.weight', 'cls.predictions.transform.LayerNorm.weight']\n",
      "- This IS expected if you are initializing BertModel from the checkpoint of a model trained on another task or with another architecture (e.g. initializing a BertForSequenceClassification model from a BertForPreTraining model).\n",
      "- This IS NOT expected if you are initializing BertModel from the checkpoint of a model that you expect to be exactly identical (initializing a BertForSequenceClassification model from a BertForSequenceClassification model).\n"
     ]
    }
   ],
   "source": [
    "device = torch.device(\"cuda:0\" if torch.cuda.is_available() else \"cpu\")\n",
    "tokenizer = AutoTokenizer.from_pretrained(\"StanfordAIMI/RadBERT\")\n",
    "model = BertModel.from_pretrained(\"StanfordAIMI/RadBERT\").to('cuda')"
   ]
  },
  {
   "cell_type": "code",
   "execution_count": 11,
   "metadata": {},
   "outputs": [],
   "source": [
    "class RadBertEmbedder(nn.Module):\n",
    "    _device = f\"{torch.device('cuda' if torch.cuda.is_available() else 'cpu')}:{torch.cuda.current_device()}\"\n",
    "    _tokenizer = tokenizer\n",
    "    _model = model\n",
    "\n",
    "    def __init__(self, emb_dim=32,*args, **kwargs):\n",
    "        super().__init__()\n",
    "        self.emb_dim = emb_dim\n",
    "        self.mlp = nn.Sequential(\n",
    "            nn.Linear(768, emb_dim), # 768 bert output的维度\n",
    "            nn.LayerNorm(emb_dim),\n",
    "            nn.ReLU(),\n",
    "            nn.Linear(emb_dim, emb_dim),\n",
    "            nn.LayerNorm(emb_dim),\n",
    "        ).to(self._device)\n",
    "\n",
    "    def forward(self, condition):\n",
    "        inputs = self._tokenizer(condition, return_tensors=\"pt\", padding=True)\n",
    "        inputs = inputs.to(self._device)\n",
    "        outputs = self._model(**inputs)\n",
    "        c = outputs.last_hidden_state[:, 0] # [CLS]\n",
    "        c = self.mlp(c)\n",
    "        return c"
   ]
  },
  {
   "cell_type": "code",
   "execution_count": 12,
   "metadata": {},
   "outputs": [
    {
     "name": "stdout",
     "output_type": "stream",
     "text": [
      "tensor([  101,   170,  6307,  1104,   170, 13093,   193,  6447,  1114,  5048,\n",
      "        14494,   117, 20673,  1105,   185,  1513, 12602,   174,  3101, 17268,\n",
      "          102,     0,     0,     0,     0,     0,     0,     0,     0,     0,\n",
      "            0,     0,     0,     0,     0,     0,     0,     0,     0,     0,\n",
      "            0,     0,     0,     0,     0,     0,     0,     0,     0,     0,\n",
      "            0,     0,     0,     0,     0,     0,     0,     0,     0,     0,\n",
      "            0,     0,     0,     0,     0,     0,     0,     0,     0,     0,\n",
      "            0,     0,     0,     0,     0,     0,     0,     0,     0,     0,\n",
      "            0,     0,     0,     0,     0,     0,     0,     0,     0,     0,\n",
      "            0,     0,     0,     0,     0,     0,     0,     0])\n",
      "torch.Size([98])\n"
     ]
    },
    {
     "data": {
      "text/plain": [
       "torch.Size([16, 1024])"
      ]
     },
     "execution_count": 12,
     "metadata": {},
     "output_type": "execute_result"
    }
   ],
   "source": [
    "emb_obj = RadBertEmbedder(emb_dim=1024)\n",
    "condition = [\n",
    "    \"A photo of a lung xray with Edema,Pneumonia and Pleural Effusion\",\n",
    "    \"A photo of a lung xray with Lung Opacity,Pneumonia,Pneumothorax and Pleural Effusion\",\n",
    "    \"A photo of a lung xray with Fracture\",\n",
    "    \"A photo of a lung xray with Cardiomegaly,Consolidation and Support Devices\",\n",
    "    \"A photo of a lung xray with Atelectasis and Pneumothorax\",\n",
    "    \"A photo of a lung xray with Support Devices\",\n",
    "    \"A photo of a lung xray with Lung Opacity,Pleural Effusion and Support Devices\",\n",
    "    \"A photo of a lung xray with Consolidation,Atelectasis and Pleural Effusion\",\n",
    "    \"A photo of a lung xray with Pleural Other and Support Devices\",\n",
    "    \"A photo of a lung xray with Lung Opacity,Edema and Pleural Effusion\",\n",
    "    \"A photo of a lung xray with Edema,Atelectasis and Pleural Effusion\",\n",
    "    \"A photo of a lung xray with Lung Opacity and Consolidation\",\n",
    "    \"A photo of a lung xray with Cardiomegaly,Lung Opacity,Edema,Pleural Effusion and Support Devices\",\n",
    "    \"A photo of a lung xray with Lung Opacity,Edema,Pleural Effusion and Support Devices\",\n",
    "    \"A photo of a lung xray with Lung Opacity and Pleural Effusion\",\n",
    "    \"A photo of a lung xray\",\n",
    "]\n",
    "c = emb_obj(condition)\n",
    "c.shape\n"
   ]
  }
 ],
 "metadata": {
  "kernelspec": {
   "display_name": "venv",
   "language": "python",
   "name": "python3"
  },
  "language_info": {
   "codemirror_mode": {
    "name": "ipython",
    "version": 3
   },
   "file_extension": ".py",
   "mimetype": "text/x-python",
   "name": "python",
   "nbconvert_exporter": "python",
   "pygments_lexer": "ipython3",
   "version": "3.10.6"
  },
  "orig_nbformat": 4
 },
 "nbformat": 4,
 "nbformat_minor": 2
}
